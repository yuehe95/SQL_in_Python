{
 "cells": [
  {
   "cell_type": "code",
   "execution_count": 1,
   "metadata": {},
   "outputs": [],
   "source": [
    "import sqlite3\n",
    "import pandas as pd\n",
    "connection = sqlite3.connect(\"sql_final.db\")\n",
    "cursor = connection.cursor()"
   ]
  },
  {
   "cell_type": "code",
   "execution_count": 2,
   "metadata": {},
   "outputs": [
    {
     "data": {
      "text/html": [
       "<div>\n",
       "<style scoped>\n",
       "    .dataframe tbody tr th:only-of-type {\n",
       "        vertical-align: middle;\n",
       "    }\n",
       "\n",
       "    .dataframe tbody tr th {\n",
       "        vertical-align: top;\n",
       "    }\n",
       "\n",
       "    .dataframe thead th {\n",
       "        text-align: right;\n",
       "    }\n",
       "</style>\n",
       "<table border=\"1\" class=\"dataframe\">\n",
       "  <thead>\n",
       "    <tr style=\"text-align: right;\">\n",
       "      <th></th>\n",
       "      <th>Year</th>\n",
       "      <th>Period</th>\n",
       "      <th>Geo_Level</th>\n",
       "      <th>State_ANSI</th>\n",
       "      <th>Commodity_ID</th>\n",
       "      <th>Domain</th>\n",
       "      <th>Value</th>\n",
       "    </tr>\n",
       "  </thead>\n",
       "  <tbody>\n",
       "    <tr>\n",
       "      <th>0</th>\n",
       "      <td>2023</td>\n",
       "      <td>APR</td>\n",
       "      <td>STATE</td>\n",
       "      <td>4.0</td>\n",
       "      <td>5</td>\n",
       "      <td>TOTAL</td>\n",
       "      <td>428,000,000</td>\n",
       "    </tr>\n",
       "    <tr>\n",
       "      <th>1</th>\n",
       "      <td>2023</td>\n",
       "      <td>APR</td>\n",
       "      <td>STATE</td>\n",
       "      <td>6.0</td>\n",
       "      <td>5</td>\n",
       "      <td>TOTAL</td>\n",
       "      <td>3,543,000,000</td>\n",
       "    </tr>\n",
       "    <tr>\n",
       "      <th>2</th>\n",
       "      <td>2023</td>\n",
       "      <td>APR</td>\n",
       "      <td>STATE</td>\n",
       "      <td>8.0</td>\n",
       "      <td>5</td>\n",
       "      <td>TOTAL</td>\n",
       "      <td>444,000,000</td>\n",
       "    </tr>\n",
       "    <tr>\n",
       "      <th>3</th>\n",
       "      <td>2023</td>\n",
       "      <td>APR</td>\n",
       "      <td>STATE</td>\n",
       "      <td>12.0</td>\n",
       "      <td>5</td>\n",
       "      <td>TOTAL</td>\n",
       "      <td>166,000,000</td>\n",
       "    </tr>\n",
       "    <tr>\n",
       "      <th>4</th>\n",
       "      <td>2023</td>\n",
       "      <td>APR</td>\n",
       "      <td>STATE</td>\n",
       "      <td>13.0</td>\n",
       "      <td>5</td>\n",
       "      <td>TOTAL</td>\n",
       "      <td>180,000,000</td>\n",
       "    </tr>\n",
       "  </tbody>\n",
       "</table>\n",
       "</div>"
      ],
      "text/plain": [
       "   Year Period Geo_Level  State_ANSI  Commodity_ID Domain          Value\n",
       "0  2023    APR     STATE         4.0             5  TOTAL    428,000,000\n",
       "1  2023    APR     STATE         6.0             5  TOTAL  3,543,000,000\n",
       "2  2023    APR     STATE         8.0             5  TOTAL    444,000,000\n",
       "3  2023    APR     STATE        12.0             5  TOTAL    166,000,000\n",
       "4  2023    APR     STATE        13.0             5  TOTAL    180,000,000"
      ]
     },
     "execution_count": 2,
     "metadata": {},
     "output_type": "execute_result"
    }
   ],
   "source": [
    "milk = pd.read_csv(\"milk_production.csv\")\n",
    "milk.head()"
   ]
  },
  {
   "cell_type": "code",
   "execution_count": 3,
   "metadata": {},
   "outputs": [
    {
     "data": {
      "text/html": [
       "<div>\n",
       "<style scoped>\n",
       "    .dataframe tbody tr th:only-of-type {\n",
       "        vertical-align: middle;\n",
       "    }\n",
       "\n",
       "    .dataframe tbody tr th {\n",
       "        vertical-align: top;\n",
       "    }\n",
       "\n",
       "    .dataframe thead th {\n",
       "        text-align: right;\n",
       "    }\n",
       "</style>\n",
       "<table border=\"1\" class=\"dataframe\">\n",
       "  <thead>\n",
       "    <tr style=\"text-align: right;\">\n",
       "      <th></th>\n",
       "      <th>Year</th>\n",
       "      <th>Period</th>\n",
       "      <th>Geo_Level</th>\n",
       "      <th>State_ANSI</th>\n",
       "      <th>Commodity_ID</th>\n",
       "      <th>Domain</th>\n",
       "      <th>Value</th>\n",
       "    </tr>\n",
       "  </thead>\n",
       "  <tbody>\n",
       "    <tr>\n",
       "      <th>0</th>\n",
       "      <td>2023</td>\n",
       "      <td>APR</td>\n",
       "      <td>STATE</td>\n",
       "      <td>4.0</td>\n",
       "      <td>5</td>\n",
       "      <td>TOTAL</td>\n",
       "      <td>428000000</td>\n",
       "    </tr>\n",
       "    <tr>\n",
       "      <th>1</th>\n",
       "      <td>2023</td>\n",
       "      <td>APR</td>\n",
       "      <td>STATE</td>\n",
       "      <td>6.0</td>\n",
       "      <td>5</td>\n",
       "      <td>TOTAL</td>\n",
       "      <td>3543000000</td>\n",
       "    </tr>\n",
       "    <tr>\n",
       "      <th>2</th>\n",
       "      <td>2023</td>\n",
       "      <td>APR</td>\n",
       "      <td>STATE</td>\n",
       "      <td>8.0</td>\n",
       "      <td>5</td>\n",
       "      <td>TOTAL</td>\n",
       "      <td>444000000</td>\n",
       "    </tr>\n",
       "    <tr>\n",
       "      <th>3</th>\n",
       "      <td>2023</td>\n",
       "      <td>APR</td>\n",
       "      <td>STATE</td>\n",
       "      <td>12.0</td>\n",
       "      <td>5</td>\n",
       "      <td>TOTAL</td>\n",
       "      <td>166000000</td>\n",
       "    </tr>\n",
       "    <tr>\n",
       "      <th>4</th>\n",
       "      <td>2023</td>\n",
       "      <td>APR</td>\n",
       "      <td>STATE</td>\n",
       "      <td>13.0</td>\n",
       "      <td>5</td>\n",
       "      <td>TOTAL</td>\n",
       "      <td>180000000</td>\n",
       "    </tr>\n",
       "  </tbody>\n",
       "</table>\n",
       "</div>"
      ],
      "text/plain": [
       "   Year Period Geo_Level  State_ANSI  Commodity_ID Domain       Value\n",
       "0  2023    APR     STATE         4.0             5  TOTAL   428000000\n",
       "1  2023    APR     STATE         6.0             5  TOTAL  3543000000\n",
       "2  2023    APR     STATE         8.0             5  TOTAL   444000000\n",
       "3  2023    APR     STATE        12.0             5  TOTAL   166000000\n",
       "4  2023    APR     STATE        13.0             5  TOTAL   180000000"
      ]
     },
     "execution_count": 3,
     "metadata": {},
     "output_type": "execute_result"
    }
   ],
   "source": [
    "milk['Value'] = milk['Value'].str.replace(',', '')\n",
    "milk.head()"
   ]
  },
  {
   "cell_type": "code",
   "execution_count": 4,
   "metadata": {},
   "outputs": [
    {
     "name": "stdout",
     "output_type": "stream",
     "text": [
      "<class 'pandas.core.frame.DataFrame'>\n",
      "RangeIndex: 37638 entries, 0 to 37637\n",
      "Data columns (total 7 columns):\n",
      " #   Column        Non-Null Count  Dtype  \n",
      "---  ------        --------------  -----  \n",
      " 0   Year          37638 non-null  int64  \n",
      " 1   Period        37638 non-null  object \n",
      " 2   Geo_Level     37638 non-null  object \n",
      " 3   State_ANSI    37634 non-null  float64\n",
      " 4   Commodity_ID  37638 non-null  int64  \n",
      " 5   Domain        37638 non-null  object \n",
      " 6   Value         37638 non-null  int64  \n",
      "dtypes: float64(1), int64(3), object(3)\n",
      "memory usage: 2.0+ MB\n"
     ]
    }
   ],
   "source": [
    "milk['Value'] =pd.to_numeric(milk['Value'])\n",
    "milk.info()"
   ]
  },
  {
   "cell_type": "code",
   "execution_count": 5,
   "metadata": {},
   "outputs": [
    {
     "data": {
      "text/plain": [
       "37638"
      ]
     },
     "execution_count": 5,
     "metadata": {},
     "output_type": "execute_result"
    }
   ],
   "source": [
    "milk.to_sql('milk', con=connection, if_exists='replace', index=False)"
   ]
  },
  {
   "cell_type": "code",
   "execution_count": 6,
   "metadata": {},
   "outputs": [
    {
     "data": {
      "text/plain": [
       "7488"
      ]
     },
     "execution_count": 6,
     "metadata": {},
     "output_type": "execute_result"
    }
   ],
   "source": [
    "coffee = pd.read_csv(\"coffee_production.csv\")\n",
    "coffee['Value'] = coffee['Value'].str.replace(',', '')\n",
    "coffee['Value'] = pd.to_numeric(coffee['Value'])\n",
    "coffee.to_sql('coffee', con=connection, if_exists='replace', index=False)\n",
    "\n",
    "honey = pd.read_csv(\"honey_production.csv\")\n",
    "honey['Value'] = honey['Value'].str.replace(',', '')\n",
    "honey['Value'] = pd.to_numeric(honey['Value'])\n",
    "honey.to_sql('honey', con=connection, if_exists='replace', index=False)\n",
    "\n",
    "state = pd.read_csv(\"state_lookup.csv\")\n",
    "#state.head()\n",
    "state.to_sql('state', con=connection, if_exists='replace', index=False)\n",
    "\n",
    "yogurt = pd.read_csv(\"yogurt_production.csv\")\n",
    "#yogurt.head()\n",
    "#yogurt['Value'] = yogurt['Value'].str.replace(',', '')\n",
    "#yogurt.head()\n",
    "#yogurt.iloc[25]\n",
    "yogurt['Value'] = yogurt['Value'].str.replace(',', '').str.replace(' (D)', '')\n",
    "yogurt['Value'] = pd.to_numeric(yogurt['Value'], errors='coerce')\n",
    "yogurt.to_sql('yogurt', con=connection, if_exists='replace', index=False)\n",
    "\n",
    "cheese = pd.read_csv(\"cheese_production.csv\")\n",
    "cheese['Value'] = cheese['Value'].str.replace(',', '').str.replace(' (D)', '')\n",
    "cheese['Value'] = pd.to_numeric(cheese['Value'], errors='coerce')\n",
    "cheese.to_sql('cheese', con=connection, if_exists='replace', index=False)"
   ]
  },
  {
   "cell_type": "code",
   "execution_count": 7,
   "metadata": {},
   "outputs": [
    {
     "data": {
      "text/plain": [
       "[('my_table',),\n",
       " ('milk',),\n",
       " ('coffee',),\n",
       " ('honey',),\n",
       " ('state',),\n",
       " ('yogurt',),\n",
       " ('cheese',)]"
      ]
     },
     "execution_count": 7,
     "metadata": {},
     "output_type": "execute_result"
    }
   ],
   "source": [
    "cursor.execute(\"SELECT name FROM sqlite_master WHERE type='table';\").fetchall()"
   ]
  },
  {
   "cell_type": "markdown",
   "metadata": {},
   "source": [
    "### What is the total milk production in year 2023?"
   ]
  },
  {
   "cell_type": "code",
   "execution_count": 8,
   "metadata": {},
   "outputs": [
    {
     "data": {
      "text/plain": [
       "[(91812000000,)]"
      ]
     },
     "execution_count": 8,
     "metadata": {},
     "output_type": "execute_result"
    }
   ],
   "source": [
    "cursor.execute(\"SELECT sum(value) FROM milk WHERE year = 2023\").fetchall()"
   ]
  },
  {
   "cell_type": "markdown",
   "metadata": {},
   "source": [
    "### What is the avergae honey production in year 2022?"
   ]
  },
  {
   "cell_type": "code",
   "execution_count": 9,
   "metadata": {},
   "outputs": [
    {
     "data": {
      "text/plain": [
       "[(3133275.0,)]"
      ]
     },
     "execution_count": 9,
     "metadata": {},
     "output_type": "execute_result"
    }
   ],
   "source": [
    "cursor.execute(\"select avg(value) from honey where year = 2022\").fetchall()"
   ]
  },
  {
   "cell_type": "markdown",
   "metadata": {},
   "source": [
    "### What is the ID for IOWA state?"
   ]
  },
  {
   "cell_type": "code",
   "execution_count": 10,
   "metadata": {},
   "outputs": [
    {
     "data": {
      "text/plain": [
       "[('IOWA', 19)]"
      ]
     },
     "execution_count": 10,
     "metadata": {},
     "output_type": "execute_result"
    }
   ],
   "source": [
    "\n",
    "cursor.execute(\"select * from state where state = 'IOWA'\").fetchall()"
   ]
  },
  {
   "cell_type": "markdown",
   "metadata": {},
   "source": [
    "### Does state with ID 35 produce both honey and milk in 2022?"
   ]
  },
  {
   "cell_type": "code",
   "execution_count": 11,
   "metadata": {},
   "outputs": [
    {
     "data": {
      "text/plain": [
       "[]"
      ]
     },
     "execution_count": 11,
     "metadata": {},
     "output_type": "execute_result"
    }
   ],
   "source": [
    "cursor.execute(\"select * from honey h inner join milk m on h.state_ANSI=m.state_ANSI where h.year = 2022 and h.state_ANSI=35\").fetchall()"
   ]
  },
  {
   "cell_type": "markdown",
   "metadata": {},
   "source": [
    "### What is the total yogurt production in year 2022 for states also producing cheese in 2022?"
   ]
  },
  {
   "cell_type": "code",
   "execution_count": 12,
   "metadata": {},
   "outputs": [
    {
     "data": {
      "text/plain": [
       "[(1171095000.0,)]"
      ]
     },
     "execution_count": 12,
     "metadata": {},
     "output_type": "execute_result"
    }
   ],
   "source": [
    "cursor.execute(\"select sum(value) from yogurt where year=2022 and State_ANSI in (select State_ANSI from cheese where year =2022) \").fetchall()"
   ]
  },
  {
   "cell_type": "markdown",
   "metadata": {},
   "source": [
    "### How many states have total cheese production more than 100 million on April 2023?"
   ]
  },
  {
   "cell_type": "code",
   "execution_count": 13,
   "metadata": {},
   "outputs": [
    {
     "data": {
      "text/plain": [
       "[(2023, 'APR', 'STATE', None, 6, 'TOTAL', 215206000.0),\n",
       " (2023, 'APR', 'STATE', 6.0, 6, 'TOTAL', 208807000.0),\n",
       " (2023, 'APR', 'STATE', 55.0, 6, 'TOTAL', 289699000.0)]"
      ]
     },
     "execution_count": 13,
     "metadata": {},
     "output_type": "execute_result"
    }
   ],
   "source": [
    "cursor.execute(\"select * from cheese where year = 2023 and period = 'APR' group by State_ANSI having sum(value)>100000000\").fetchall()"
   ]
  },
  {
   "cell_type": "markdown",
   "metadata": {},
   "source": [
    "### What is the total cheese production for each states on April 2023?"
   ]
  },
  {
   "cell_type": "code",
   "execution_count": 14,
   "metadata": {},
   "outputs": [
    {
     "data": {
      "text/plain": [
       "[(208807000.0, 'CALIFORNIA'),\n",
       " (86452000.0, 'IDAHO'),\n",
       " (5068000.0, 'ILLINOIS'),\n",
       " (31512000.0, 'IOWA'),\n",
       " (69728000.0, 'MINNESOTA'),\n",
       " (4889000.0, 'NEW JERSEY'),\n",
       " (79038000.0, 'NEW MEXICO'),\n",
       " (66256000.0, 'NEW YORK'),\n",
       " (20510000.0, 'OHIO'),\n",
       " (39420000.0, 'PENNSYLVANIA'),\n",
       " (43253000.0, 'SOUTH DAKOTA'),\n",
       " (11279000.0, 'VERMONT'),\n",
       " (289699000.0, 'WISCONSIN')]"
      ]
     },
     "execution_count": 14,
     "metadata": {},
     "output_type": "execute_result"
    }
   ],
   "source": [
    "cursor.execute(\"SELECT sum(c.value), s.state FROM state s left join cheese c on s.State_ANSI=c.State_ANSI where year = 2023 and period = 'APR' group by s.state\").fetchall()"
   ]
  },
  {
   "cell_type": "markdown",
   "metadata": {},
   "source": [
    "### What is the average coffee production on the year where honey production is larger than 1 million?"
   ]
  },
  {
   "cell_type": "code",
   "execution_count": null,
   "metadata": {},
   "outputs": [
    {
     "data": {
      "text/plain": [
       "[(6426666.666666667,)]"
      ]
     },
     "execution_count": 16,
     "metadata": {},
     "output_type": "execute_result"
    }
   ],
   "source": [
    "cursor.execute(\"SELECT AVG(value) FROM COFFEE where year in (select year from honey group by year having sum(value)>1000000)\").fetchall()"
   ]
  },
  {
   "cell_type": "code",
   "execution_count": null,
   "metadata": {},
   "outputs": [],
   "source": [
    "connection.close()"
   ]
  }
 ],
 "metadata": {
  "kernelspec": {
   "display_name": "base",
   "language": "python",
   "name": "python3"
  },
  "language_info": {
   "codemirror_mode": {
    "name": "ipython",
    "version": 3
   },
   "file_extension": ".py",
   "mimetype": "text/x-python",
   "name": "python",
   "nbconvert_exporter": "python",
   "pygments_lexer": "ipython3",
   "version": "3.12.4"
  }
 },
 "nbformat": 4,
 "nbformat_minor": 2
}
